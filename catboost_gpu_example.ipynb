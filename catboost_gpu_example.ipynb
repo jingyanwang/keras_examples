{
 "cells": [
  {
   "cell_type": "markdown",
   "id": "6235df61",
   "metadata": {},
   "source": [
    "https://catboost.ai/en/docs/features/training-on-gpu"
   ]
  },
  {
   "cell_type": "code",
   "execution_count": 1,
   "id": "645287e6",
   "metadata": {},
   "outputs": [],
   "source": [
    "from catboost import CatBoostClassifier"
   ]
  },
  {
   "cell_type": "code",
   "execution_count": 2,
   "id": "6a806aed",
   "metadata": {},
   "outputs": [],
   "source": [
    "train_data = [[0, 3],\n",
    "              [4, 1],\n",
    "              [8, 1],\n",
    "              [9, 1]]\n",
    "\n",
    "train_labels = [0, 0, 1, 1]"
   ]
  },
  {
   "cell_type": "code",
   "execution_count": 3,
   "id": "63cab5cc",
   "metadata": {},
   "outputs": [
    {
     "data": {
      "text/plain": [
       "<catboost.core.CatBoostClassifier at 0x2b046a3feb0>"
      ]
     },
     "execution_count": 3,
     "metadata": {},
     "output_type": "execute_result"
    }
   ],
   "source": [
    "model = CatBoostClassifier(\n",
    "    iterations=1000,\n",
    "    task_type=\"GPU\",\n",
    "    devices='0:1')\n",
    "\n",
    "model.fit(\n",
    "    train_data,\n",
    "    train_labels,\n",
    "    verbose=False)"
   ]
  }
 ],
 "metadata": {
  "kernelspec": {
   "display_name": "Python 3 (ipykernel)",
   "language": "python",
   "name": "python3"
  },
  "language_info": {
   "codemirror_mode": {
    "name": "ipython",
    "version": 3
   },
   "file_extension": ".py",
   "mimetype": "text/x-python",
   "name": "python",
   "nbconvert_exporter": "python",
   "pygments_lexer": "ipython3",
   "version": "3.8.0"
  }
 },
 "nbformat": 4,
 "nbformat_minor": 5
}
