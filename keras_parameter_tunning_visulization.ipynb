{
 "cells": [
  {
   "cell_type": "code",
   "execution_count": 1,
   "id": "1d931751",
   "metadata": {},
   "outputs": [],
   "source": [
    "import numpy as np\n",
    "import keras_tuner as kt\n",
    "from tensorflow import keras\n",
    "from tensorflow.keras import layers"
   ]
  },
  {
   "cell_type": "code",
   "execution_count": 2,
   "id": "ab59e2fc",
   "metadata": {},
   "outputs": [
    {
     "name": "stdout",
     "output_type": "stream",
     "text": [
      "(60000, 28, 28, 1)\n",
      "(60000,)\n",
      "(10000, 28, 28, 1)\n",
      "(10000,)\n"
     ]
    }
   ],
   "source": [
    "(x_train, y_train), (x_test, y_test) = keras.datasets.mnist.load_data()\n",
    "# Normalize the pixel values to the range of [0, 1].\n",
    "x_train = x_train.astype(\"float32\") / 255\n",
    "x_test = x_test.astype(\"float32\") / 255\n",
    "# Add the channel dimension to the images.\n",
    "x_train = np.expand_dims(x_train, -1)\n",
    "x_test = np.expand_dims(x_test, -1)\n",
    "# Print the shapes of the data.\n",
    "print(x_train.shape)\n",
    "print(y_train.shape)\n",
    "print(x_test.shape)\n",
    "print(y_test.shape)"
   ]
  },
  {
   "cell_type": "code",
   "execution_count": 3,
   "id": "14f84c02",
   "metadata": {},
   "outputs": [],
   "source": [
    "def build_model(hp):\n",
    "    inputs = keras.Input(shape=(28, 28, 1))\n",
    "    # Model type can be MLP or CNN.\n",
    "    model_type = hp.Choice(\"model_type\", [\"mlp\", \"cnn\"])\n",
    "    x = inputs\n",
    "    if model_type == \"mlp\":\n",
    "        x = layers.Flatten()(x)\n",
    "        # Number of layers of the MLP is a hyperparameter.\n",
    "        for i in range(hp.Int(\"mlp_layers\", 1, 3)):\n",
    "            # Number of units of each layer are\n",
    "            # different hyperparameters with different names.\n",
    "            output_node = layers.Dense(\n",
    "                units=hp.Int(f\"units_{i}\", 32, 128, step=32), activation=\"relu\",\n",
    "            )(x)\n",
    "    else:\n",
    "        # Number of layers of the CNN is also a hyperparameter.\n",
    "        for i in range(hp.Int(\"cnn_layers\", 1, 3)):\n",
    "            x = layers.Conv2D(\n",
    "                hp.Int(f\"filters_{i}\", 32, 128, step=32),\n",
    "                kernel_size=(3, 3),\n",
    "                activation=\"relu\",\n",
    "            )(x)\n",
    "            x = layers.MaxPooling2D(pool_size=(2, 2))(x)\n",
    "        x = layers.Flatten()(x)\n",
    "\n",
    "    # A hyperparamter for whether to use dropout layer.\n",
    "    if hp.Boolean(\"dropout\"):\n",
    "        x = layers.Dropout(0.5)(x)\n",
    "\n",
    "    # The last layer contains 10 units,\n",
    "    # which is the same as the number of classes.\n",
    "    outputs = layers.Dense(units=10, activation=\"softmax\")(x)\n",
    "    model = keras.Model(inputs=inputs, outputs=outputs)\n",
    "\n",
    "    # Compile the model.\n",
    "    model.compile(\n",
    "        loss=\"sparse_categorical_crossentropy\", metrics=[\"accuracy\"], optimizer=\"adam\",\n",
    "    )\n",
    "    return model"
   ]
  },
  {
   "cell_type": "code",
   "execution_count": 6,
   "id": "9898a04d",
   "metadata": {},
   "outputs": [
    {
     "name": "stdout",
     "output_type": "stream",
     "text": [
      "(100, 10)\n",
      "Model: \"model_2\"\n",
      "_________________________________________________________________\n",
      " Layer (type)                Output Shape              Param #   \n",
      "=================================================================\n",
      " input_3 (InputLayer)        [(None, 28, 28, 1)]       0         \n",
      "                                                                 \n",
      " conv2d_2 (Conv2D)           (None, 26, 26, 32)        320       \n",
      "                                                                 \n",
      " max_pooling2d_2 (MaxPooling  (None, 13, 13, 32)       0         \n",
      " 2D)                                                             \n",
      "                                                                 \n",
      " flatten_2 (Flatten)         (None, 5408)              0         \n",
      "                                                                 \n",
      " dense_2 (Dense)             (None, 10)                54090     \n",
      "                                                                 \n",
      "=================================================================\n",
      "Total params: 54,410\n",
      "Trainable params: 54,410\n",
      "Non-trainable params: 0\n",
      "_________________________________________________________________\n"
     ]
    }
   ],
   "source": [
    "# Initialize the `HyperParameters` and set the values.\n",
    "hp = kt.HyperParameters()\n",
    "hp.values[\"model_type\"] = \"cnn\"\n",
    "# Build the model using the `HyperParameters`.\n",
    "model = build_model(hp)\n",
    "# Test if the model runs with our data.\n",
    "print(model(x_train[:100]).shape)\n",
    "# Print a summary of the model.\n",
    "model.summary()"
   ]
  },
  {
   "cell_type": "code",
   "execution_count": 7,
   "id": "9b568d91",
   "metadata": {},
   "outputs": [
    {
     "name": "stdout",
     "output_type": "stream",
     "text": [
      "Model: \"model_3\"\n",
      "_________________________________________________________________\n",
      " Layer (type)                Output Shape              Param #   \n",
      "=================================================================\n",
      " input_4 (InputLayer)        [(None, 28, 28, 1)]       0         \n",
      "                                                                 \n",
      " flatten_3 (Flatten)         (None, 784)               0         \n",
      "                                                                 \n",
      " dense_4 (Dense)             (None, 10)                7850      \n",
      "                                                                 \n",
      "=================================================================\n",
      "Total params: 7,850\n",
      "Trainable params: 7,850\n",
      "Non-trainable params: 0\n",
      "_________________________________________________________________\n"
     ]
    }
   ],
   "source": [
    "# Do the same for MLP model.\n",
    "hp.values[\"model_type\"] = \"mlp\"\n",
    "model = build_model(hp)\n",
    "model(x_train[:100])\n",
    "model.summary()"
   ]
  },
  {
   "cell_type": "code",
   "execution_count": 8,
   "id": "5a5eb98f",
   "metadata": {},
   "outputs": [],
   "source": [
    "tuner = kt.RandomSearch(\n",
    "    build_model,\n",
    "    max_trials=10,\n",
    "    # Do not resume the previous search in the same directory.\n",
    "    overwrite=True,\n",
    "    objective=\"val_accuracy\",\n",
    "    # Set a directory to store the intermediate results.\n",
    "    directory=\"E:\\data\\keras\\my_dir\",\n",
    ")"
   ]
  },
  {
   "cell_type": "code",
   "execution_count": 13,
   "id": "1ebc5071",
   "metadata": {},
   "outputs": [
    {
     "name": "stdout",
     "output_type": "stream",
     "text": [
      "Trial 14 Complete [00h 00m 12s]\n",
      "val_accuracy: 0.981083333492279\n",
      "\n",
      "Best val_accuracy So Far: 0.987583339214325\n",
      "Total elapsed time: 00h 03m 39s\n",
      "INFO:tensorflow:Oracle triggered exit\n"
     ]
    }
   ],
   "source": [
    "tuner.search(\n",
    "    x_train,\n",
    "    y_train,\n",
    "    validation_split=0.2,\n",
    "    epochs=2,\n",
    "    # Use the TensorBoard callback.\n",
    "    # The logs will be write to \"/tmp/tb_logs\".\n",
    "    callbacks=[keras.callbacks.TensorBoard(\"/tmp/tb_logs\")],\n",
    ")"
   ]
  },
  {
   "cell_type": "markdown",
   "id": "87dd822c",
   "metadata": {},
   "source": [
    "tensorboard --logdir /tmp/tb_logs"
   ]
  },
  {
   "cell_type": "markdown",
   "id": "e22b8d25",
   "metadata": {},
   "source": [
    "http://localhost:6006/"
   ]
  }
 ],
 "metadata": {
  "kernelspec": {
   "display_name": "Python 3 (ipykernel)",
   "language": "python",
   "name": "python3"
  },
  "language_info": {
   "codemirror_mode": {
    "name": "ipython",
    "version": 3
   },
   "file_extension": ".py",
   "mimetype": "text/x-python",
   "name": "python",
   "nbconvert_exporter": "python",
   "pygments_lexer": "ipython3",
   "version": "3.8.2"
  }
 },
 "nbformat": 4,
 "nbformat_minor": 5
}
